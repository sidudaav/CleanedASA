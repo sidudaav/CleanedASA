{
  "nbformat": 4,
  "nbformat_minor": 0,
  "metadata": {
    "colab": {
      "name": "200 Word Tester CoronaTime.ipynb",
      "provenance": [],
      "collapsed_sections": [],
      "include_colab_link": true
    },
    "kernelspec": {
      "name": "python3",
      "display_name": "Python 3"
    }
  },
  "cells": [
    {
      "cell_type": "markdown",
      "metadata": {
        "id": "view-in-github",
        "colab_type": "text"
      },
      "source": [
        "<a href=\"https://colab.research.google.com/github/sidudaav/CoronaASA/blob/master/200_Word_Tester_CoronaTime.ipynb\" target=\"_parent\"><img src=\"https://colab.research.google.com/assets/colab-badge.svg\" alt=\"Open In Colab\"/></a>"
      ]
    },
    {
      "cell_type": "code",
      "metadata": {
        "id": "LUNCbkLDeVyx",
        "colab_type": "code",
        "colab": {}
      },
      "source": [
        "# This program calculates MSE for our 200 keywords"
      ],
      "execution_count": 0,
      "outputs": []
    },
    {
      "cell_type": "code",
      "metadata": {
        "id": "glzHaIurzhj0",
        "colab_type": "code",
        "colab": {}
      },
      "source": [
        "!apt-get install libgeos-3.8.0\n",
        "!apt-get install libgeos-dev\n",
        "!pip install --upgrade --user git+https://github.com/GeneralMills/pytrends"
      ],
      "execution_count": 0,
      "outputs": []
    },
    {
      "cell_type": "code",
      "metadata": {
        "id": "O8Kih1S5znCF",
        "colab_type": "code",
        "colab": {}
      },
      "source": [
        "import pandas as pd                        \n",
        "from pytrends.request import TrendReq\n",
        "\n",
        "pytrend = TrendReq()\n",
        "\n",
        "state_holder = []\n",
        "increase_holder = []\n",
        "MSQE_holder = []"
      ],
      "execution_count": 0,
      "outputs": []
    },
    {
      "cell_type": "code",
      "metadata": {
        "id": "05CoqnNpLASW",
        "colab_type": "code",
        "colab": {}
      },
      "source": [
        "def rank_simple(vector):\n",
        "    return sorted(range(len(vector)), key=vector.__getitem__)\n",
        "\n",
        "def rankdata(a):\n",
        "    n = len(a)\n",
        "    ivec=rank_simple(a)\n",
        "    svec=[a[rank] for rank in ivec]\n",
        "    sumranks = 0\n",
        "    dupcount = 0\n",
        "    newarray = [0]*n\n",
        "    for i in range(n):\n",
        "        sumranks += i\n",
        "        dupcount += 1\n",
        "        if i==n-1 or svec[i] != svec[i+1]:\n",
        "            averank = sumranks / float(dupcount) + 1\n",
        "            for j in range(i-dupcount+1,i+1):\n",
        "                newarray[ivec[j]] = averank\n",
        "            sumranks = 0\n",
        "            dupcount = 0\n",
        "    return newarray"
      ],
      "execution_count": 0,
      "outputs": []
    },
    {
      "cell_type": "code",
      "metadata": {
        "id": "BRqiyS38HtzS",
        "colab_type": "code",
        "colab": {}
      },
      "source": [
        "case_list = ['NY', 'NJ', 'LA', 'MI', 'CT', 'MA', 'WA', 'IN', 'IL',\n",
        "             'RI', 'CO', 'GA', 'VT', 'PA', 'NV', 'MD', 'DE', 'MS', 'FL',\n",
        "             'OK', 'WI', 'KY', 'OH', 'AL', 'MO', 'KS', 'NH', 'VA',\n",
        "             'CA', 'AZ', 'ID', 'TN', 'SC', 'ME', 'OR', 'IA', 'MN', 'AK', 'ND',\n",
        "             'TX', 'NM', 'NE', 'NC', 'AR', 'SD', 'MT', 'HI', 'UT',\n",
        "             'WV', 'WY']\n",
        "\n",
        "new_case_list = case_list[::-1]\n",
        "\n",
        "def case_MSQE(in_list):\n",
        "  rank = rankdata(in_list)\n",
        "  MSQE = 0\n",
        "  for i in range(0, 50):\n",
        "    state = state_list[i]\n",
        "    if   rank[i] - new_case_list.index(state) - 1:\n",
        "      MSQE = MSQE + (( rank[i] - new_case_list.index(state) - 1)**2)\n",
        "      \n",
        "  MSQE = MSQE / 50\n",
        "\n",
        "  return MSQE\n"
      ],
      "execution_count": 0,
      "outputs": []
    },
    {
      "cell_type": "code",
      "metadata": {
        "id": "CZMMnVNjhbkn",
        "colab_type": "code",
        "colab": {}
      },
      "source": [
        "CaseRank = []\n",
        "for i in range(0, 50):\n",
        "  state = state_list[i]\n",
        "  CaseRank.append(case_list.index(state) + 1)\n",
        "print(CaseRank)"
      ],
      "execution_count": 0,
      "outputs": []
    },
    {
      "cell_type": "code",
      "metadata": {
        "id": "ystCiy-rzp8t",
        "colab_type": "code",
        "colab": {}
      },
      "source": [
        "import time\n",
        "from time import sleep\n",
        "\n",
        "kw_list = []\n",
        "with open('CoronaWords.txt', 'r') as f:\n",
        "    kw_list = [line.strip() for line in f]\n",
        "kw_list.pop(0)\n",
        "\n",
        "\n",
        "sig_lev = None\n",
        "state_list = ['AK', 'AL', 'AR', 'AZ', 'CA', 'CO', 'CT', 'DE', 'FL', 'GA', 'HI', 'IA', 'ID', 'IL', 'IN', 'KS', 'KY',\n",
        "              'LA', 'MA', 'MD', 'ME', 'MI', 'MN', 'MO', 'MS', 'MT', 'NC', 'ND', 'NE', 'NH', 'NJ', 'NM', 'NV', 'NY',\n",
        "              'OH', 'OK', 'OR', 'PA', 'RI', 'SC', 'SD', 'TN', 'TX', 'UT', 'VA', 'VT', 'WA', 'WI', 'WV', 'WY']\n",
        "\n",
        "\n",
        "for kw in kw_list: \n",
        "  globals()[kw + '_states'] = []\n",
        "  globals()[kw + '_increase_states'] = []\n",
        "  globals()[kw + '_all_significance_level'] = []\n",
        "  new_kw_list = [kw]\n",
        " \n",
        "\n",
        "\n",
        "  for state in state_list:\n",
        "    time.sleep(2)\n",
        "    pytrend.build_payload(new_kw_list, cat=0, timeframe= '2020-01-01 2020-04-05', geo='US-' + state, gprop='')\n",
        "\n",
        "    df = pytrend.interest_over_time()\n",
        "    df1 = df[0:31]\n",
        "    df2 = df[df.shape[0] - 31:df.shape[0]]\n",
        "\n",
        "    significant_keyword = True\n",
        "\n",
        "    val_start = df1[kw].mean()\n",
        "    val_end = df2[kw].mean()\n",
        "\n",
        "    if val_end >= val_start:\n",
        "      globals()[kw + '_all_significance_level'].append(val_end / max(val_start, 1))\n",
        "    if val_start > val_end:\n",
        "      globals()[kw + '_all_significance_level'].append(val_start / max(1, val_end))\n",
        "\n",
        "    if val_end > 1.3 * val_start:\n",
        "      significant_keyword = True\n",
        "      globals()[kw + '_increase_states'].append(state)\n",
        "    elif 1.3 * val_end < val_start:\n",
        "      significant_keyword = True\n",
        "    else:\n",
        "      significant_keyword = False\n",
        "      \n",
        "    if significant_keyword == True:\n",
        "      globals()[kw + '_states'].append(state)\n",
        "  \n",
        "  print(kw, \" MSQE: \", case_MSQE(globals()[kw + '_all_significance_level']))\n",
        "  state_holder.append(len(globals()[kw + '_states']))\n",
        "  increase_holder.append(len(globals()[kw + '_increase_states']))\n",
        "  MSQE_holder.append(case_MSQE(globals()[kw + '_all_significance_level']))"
      ],
      "execution_count": 0,
      "outputs": []
    },
    {
      "cell_type": "code",
      "metadata": {
        "id": "U7ypuRjIEilU",
        "colab_type": "code",
        "colab": {}
      },
      "source": [
        "print(MSQE_holder)\n",
        "print(state_holder)\n",
        "print(increase_holder)"
      ],
      "execution_count": 0,
      "outputs": []
    }
  ]
}